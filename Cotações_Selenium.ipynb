{
 "cells": [
  {
   "cell_type": "markdown",
   "id": "161b7967-2b7a-4b85-8034-4b55f003033f",
   "metadata": {},
   "source": [
    "# Importação de Bibliotecas"
   ]
  },
  {
   "cell_type": "code",
   "execution_count": 64,
   "id": "62e16736-d1cb-4785-804d-bf73cd5938ce",
   "metadata": {},
   "outputs": [],
   "source": [
    "import pandas as pd\n",
    "from selenium import webdriver\n",
    "from selenium.webdriver.common.keys import Keys\n",
    "\n",
    "navegador = webdriver.Chrome()"
   ]
  },
  {
   "cell_type": "markdown",
   "id": "69843b43-5f1b-47b0-8880-2415a0863ac4",
   "metadata": {},
   "source": [
    "## Acessando Cotações com Selenium"
   ]
  },
  {
   "cell_type": "markdown",
   "id": "640a01a3-a990-4724-984b-d1ae0c34677d",
   "metadata": {},
   "source": [
    "### Cotação Dólar"
   ]
  },
  {
   "cell_type": "code",
   "execution_count": 65,
   "id": "6cae20b1-f765-400c-9008-182527e7e707",
   "metadata": {},
   "outputs": [
    {
     "name": "stdout",
     "output_type": "stream",
     "text": [
      "5.1842\n"
     ]
    }
   ],
   "source": [
    "navegador.get('https://www.google.com.br/')\n",
    "\n",
    "navegador.find_element('xpath', '/html/body/div[1]/div[3]/form/div[1]/div[1]/div[1]/div/div[2]/input').send_keys('Cotação Dólar')\n",
    "navegador.find_element('xpath', '/html/body/div[1]/div[3]/form/div[1]/div[1]/div[1]/div/div[2]/input').send_keys(Keys.ENTER)\n",
    "cotacao_dolar = navegador.find_element('xpath', '//*[@id=\"knowledge-currency__updatable-data-column\"]/div[1]/div[2]/span[1]').get_attribute('data-value')\n",
    "\n",
    "print(cotacao_dolar)"
   ]
  },
  {
   "cell_type": "markdown",
   "id": "a9ae849d-05b8-44d4-aa5b-6d8b9ba0a9fd",
   "metadata": {},
   "source": [
    "### Cotação Euro"
   ]
  },
  {
   "cell_type": "code",
   "execution_count": 66,
   "id": "a743d6a5-78d8-4ba6-a07e-6f7d012854b7",
   "metadata": {},
   "outputs": [
    {
     "name": "stdout",
     "output_type": "stream",
     "text": [
      "5.28581032\n"
     ]
    }
   ],
   "source": [
    "navegador.get('https://www.google.com/')\n",
    "\n",
    "navegador.find_element('xpath', '/html/body/div[1]/div[3]/form/div[1]/div[1]/div[1]/div/div[2]/input').send_keys('Cotação Euro')\n",
    "navegador.find_element('xpath', '/html/body/div[1]/div[3]/form/div[1]/div[1]/div[1]/div/div[2]/input').send_keys(Keys.ENTER)\n",
    "cotacao_euro = navegador.find_element('xpath', '//*[@id=\"knowledge-currency__updatable-data-column\"]/div[1]/div[2]/span[1]').get_attribute('data-value')\n",
    "print(cotacao_euro)"
   ]
  },
  {
   "cell_type": "markdown",
   "id": "54eac5d9-f211-40dc-a88a-049fbe387c05",
   "metadata": {},
   "source": [
    "### Cotação Ouro"
   ]
  },
  {
   "cell_type": "code",
   "execution_count": 67,
   "id": "799078be-ae67-41d6-a330-2a747a966c5a",
   "metadata": {},
   "outputs": [
    {
     "name": "stdout",
     "output_type": "stream",
     "text": [
      "292.28\n"
     ]
    }
   ],
   "source": [
    "navegador.get('https://www.melhorcambio.com/ouro-hoje#:~:text=O%20valor%20do%20grama%20do,em%20R%24%20293%2C35.')\n",
    "cotacao_ouro = navegador.find_element('xpath', '//*[@id=\"comercial\"]').get_attribute('value')\n",
    "cotacao_ouro = cotacao_ouro.replace(',','.')\n",
    "print(cotacao_ouro)\n",
    "\n",
    "navegador.quit()"
   ]
  },
  {
   "cell_type": "markdown",
   "id": "f8bb7e0a-56b9-447a-aa2a-be7286545f09",
   "metadata": {},
   "source": [
    "## Importação de Base de Dados e Correções de Valores"
   ]
  },
  {
   "cell_type": "code",
   "execution_count": 68,
   "id": "ea31681a-db36-46b1-8f00-2008a9820df1",
   "metadata": {},
   "outputs": [
    {
     "data": {
      "text/html": [
       "<div>\n",
       "<style scoped>\n",
       "    .dataframe tbody tr th:only-of-type {\n",
       "        vertical-align: middle;\n",
       "    }\n",
       "\n",
       "    .dataframe tbody tr th {\n",
       "        vertical-align: top;\n",
       "    }\n",
       "\n",
       "    .dataframe thead th {\n",
       "        text-align: right;\n",
       "    }\n",
       "</style>\n",
       "<table border=\"1\" class=\"dataframe\">\n",
       "  <thead>\n",
       "    <tr style=\"text-align: right;\">\n",
       "      <th></th>\n",
       "      <th>Produtos</th>\n",
       "      <th>Preço Original</th>\n",
       "      <th>Moeda</th>\n",
       "      <th>Cotação</th>\n",
       "      <th>Preço de Compra</th>\n",
       "      <th>Margem</th>\n",
       "      <th>Preço de Venda</th>\n",
       "    </tr>\n",
       "  </thead>\n",
       "  <tbody>\n",
       "    <tr>\n",
       "      <th>0</th>\n",
       "      <td>Câmera Canon</td>\n",
       "      <td>999.99</td>\n",
       "      <td>Dólar</td>\n",
       "      <td>5</td>\n",
       "      <td>4999.95</td>\n",
       "      <td>1.4</td>\n",
       "      <td>6999.930</td>\n",
       "    </tr>\n",
       "    <tr>\n",
       "      <th>1</th>\n",
       "      <td>Carro Renault</td>\n",
       "      <td>4500.00</td>\n",
       "      <td>Euro</td>\n",
       "      <td>6</td>\n",
       "      <td>27000.00</td>\n",
       "      <td>2.0</td>\n",
       "      <td>54000.000</td>\n",
       "    </tr>\n",
       "    <tr>\n",
       "      <th>2</th>\n",
       "      <td>Notebook Dell</td>\n",
       "      <td>899.99</td>\n",
       "      <td>Dólar</td>\n",
       "      <td>5</td>\n",
       "      <td>4499.95</td>\n",
       "      <td>1.7</td>\n",
       "      <td>7649.915</td>\n",
       "    </tr>\n",
       "    <tr>\n",
       "      <th>3</th>\n",
       "      <td>IPhone</td>\n",
       "      <td>799.00</td>\n",
       "      <td>Dólar</td>\n",
       "      <td>5</td>\n",
       "      <td>3995.00</td>\n",
       "      <td>1.7</td>\n",
       "      <td>6791.500</td>\n",
       "    </tr>\n",
       "    <tr>\n",
       "      <th>4</th>\n",
       "      <td>Carro Fiat</td>\n",
       "      <td>3000.00</td>\n",
       "      <td>Euro</td>\n",
       "      <td>6</td>\n",
       "      <td>18000.00</td>\n",
       "      <td>1.9</td>\n",
       "      <td>34200.000</td>\n",
       "    </tr>\n",
       "  </tbody>\n",
       "</table>\n",
       "</div>"
      ],
      "text/plain": [
       "        Produtos  Preço Original  Moeda  Cotação  Preço de Compra  Margem  \\\n",
       "0   Câmera Canon          999.99  Dólar        5          4999.95     1.4   \n",
       "1  Carro Renault         4500.00   Euro        6         27000.00     2.0   \n",
       "2  Notebook Dell          899.99  Dólar        5          4499.95     1.7   \n",
       "3         IPhone          799.00  Dólar        5          3995.00     1.7   \n",
       "4     Carro Fiat         3000.00   Euro        6         18000.00     1.9   \n",
       "\n",
       "   Preço de Venda  \n",
       "0        6999.930  \n",
       "1       54000.000  \n",
       "2        7649.915  \n",
       "3        6791.500  \n",
       "4       34200.000  "
      ]
     },
     "execution_count": 68,
     "metadata": {},
     "output_type": "execute_result"
    }
   ],
   "source": [
    "tabela_produtos = pd.read_excel('Produtos.xlsx')\n",
    "\n",
    "tabela_produtos.head()"
   ]
  },
  {
   "cell_type": "markdown",
   "id": "43d81ae3-4c74-456f-b97d-a74cd6216ce3",
   "metadata": {},
   "source": [
    "### Correção de Cotações"
   ]
  },
  {
   "cell_type": "code",
   "execution_count": 69,
   "id": "61d9f227-775b-4f59-b33a-653e5470863a",
   "metadata": {},
   "outputs": [
    {
     "data": {
      "text/html": [
       "<div>\n",
       "<style scoped>\n",
       "    .dataframe tbody tr th:only-of-type {\n",
       "        vertical-align: middle;\n",
       "    }\n",
       "\n",
       "    .dataframe tbody tr th {\n",
       "        vertical-align: top;\n",
       "    }\n",
       "\n",
       "    .dataframe thead th {\n",
       "        text-align: right;\n",
       "    }\n",
       "</style>\n",
       "<table border=\"1\" class=\"dataframe\">\n",
       "  <thead>\n",
       "    <tr style=\"text-align: right;\">\n",
       "      <th></th>\n",
       "      <th>Produtos</th>\n",
       "      <th>Preço Original</th>\n",
       "      <th>Moeda</th>\n",
       "      <th>Cotação</th>\n",
       "      <th>Preço de Compra</th>\n",
       "      <th>Margem</th>\n",
       "      <th>Preço de Venda</th>\n",
       "    </tr>\n",
       "  </thead>\n",
       "  <tbody>\n",
       "    <tr>\n",
       "      <th>0</th>\n",
       "      <td>Câmera Canon</td>\n",
       "      <td>999.99</td>\n",
       "      <td>Dólar</td>\n",
       "      <td>5.18420</td>\n",
       "      <td>4999.95</td>\n",
       "      <td>1.40</td>\n",
       "      <td>6999.930</td>\n",
       "    </tr>\n",
       "    <tr>\n",
       "      <th>1</th>\n",
       "      <td>Carro Renault</td>\n",
       "      <td>4500.00</td>\n",
       "      <td>Euro</td>\n",
       "      <td>5.28581</td>\n",
       "      <td>27000.00</td>\n",
       "      <td>2.00</td>\n",
       "      <td>54000.000</td>\n",
       "    </tr>\n",
       "    <tr>\n",
       "      <th>2</th>\n",
       "      <td>Notebook Dell</td>\n",
       "      <td>899.99</td>\n",
       "      <td>Dólar</td>\n",
       "      <td>5.18420</td>\n",
       "      <td>4499.95</td>\n",
       "      <td>1.70</td>\n",
       "      <td>7649.915</td>\n",
       "    </tr>\n",
       "    <tr>\n",
       "      <th>3</th>\n",
       "      <td>IPhone</td>\n",
       "      <td>799.00</td>\n",
       "      <td>Dólar</td>\n",
       "      <td>5.18420</td>\n",
       "      <td>3995.00</td>\n",
       "      <td>1.70</td>\n",
       "      <td>6791.500</td>\n",
       "    </tr>\n",
       "    <tr>\n",
       "      <th>4</th>\n",
       "      <td>Carro Fiat</td>\n",
       "      <td>3000.00</td>\n",
       "      <td>Euro</td>\n",
       "      <td>5.28581</td>\n",
       "      <td>18000.00</td>\n",
       "      <td>1.90</td>\n",
       "      <td>34200.000</td>\n",
       "    </tr>\n",
       "    <tr>\n",
       "      <th>5</th>\n",
       "      <td>Celular Xiaomi</td>\n",
       "      <td>480.48</td>\n",
       "      <td>Dólar</td>\n",
       "      <td>5.18420</td>\n",
       "      <td>2402.40</td>\n",
       "      <td>2.00</td>\n",
       "      <td>4804.800</td>\n",
       "    </tr>\n",
       "    <tr>\n",
       "      <th>6</th>\n",
       "      <td>Joia 20g</td>\n",
       "      <td>20.00</td>\n",
       "      <td>Ouro</td>\n",
       "      <td>292.28000</td>\n",
       "      <td>7000.00</td>\n",
       "      <td>1.15</td>\n",
       "      <td>8050.000</td>\n",
       "    </tr>\n",
       "  </tbody>\n",
       "</table>\n",
       "</div>"
      ],
      "text/plain": [
       "         Produtos  Preço Original  Moeda    Cotação  Preço de Compra  Margem  \\\n",
       "0    Câmera Canon          999.99  Dólar    5.18420          4999.95    1.40   \n",
       "1   Carro Renault         4500.00   Euro    5.28581         27000.00    2.00   \n",
       "2   Notebook Dell          899.99  Dólar    5.18420          4499.95    1.70   \n",
       "3          IPhone          799.00  Dólar    5.18420          3995.00    1.70   \n",
       "4      Carro Fiat         3000.00   Euro    5.28581         18000.00    1.90   \n",
       "5  Celular Xiaomi          480.48  Dólar    5.18420          2402.40    2.00   \n",
       "6        Joia 20g           20.00   Ouro  292.28000          7000.00    1.15   \n",
       "\n",
       "   Preço de Venda  \n",
       "0        6999.930  \n",
       "1       54000.000  \n",
       "2        7649.915  \n",
       "3        6791.500  \n",
       "4       34200.000  \n",
       "5        4804.800  \n",
       "6        8050.000  "
      ]
     },
     "metadata": {},
     "output_type": "display_data"
    }
   ],
   "source": [
    "tabela_produtos.loc[tabela_produtos['Moeda']=='Dólar', 'Cotação'] = float(cotacao_dolar)\n",
    "tabela_produtos.loc[tabela_produtos['Moeda']=='Euro', 'Cotação'] = float(cotacao_euro)\n",
    "tabela_produtos.loc[tabela_produtos['Moeda']=='Ouro', 'Cotação'] = float(cotacao_ouro)\n",
    "display(tabela_produtos)"
   ]
  },
  {
   "cell_type": "markdown",
   "id": "9963c6e7-241e-44d7-bd4d-bb2c6b420e50",
   "metadata": {},
   "source": [
    "### Correção de Preços de Compra e Venda"
   ]
  },
  {
   "cell_type": "code",
   "execution_count": 70,
   "id": "6c7c67bf-aac2-4710-8a63-43341016d9de",
   "metadata": {},
   "outputs": [
    {
     "data": {
      "text/html": [
       "<div>\n",
       "<style scoped>\n",
       "    .dataframe tbody tr th:only-of-type {\n",
       "        vertical-align: middle;\n",
       "    }\n",
       "\n",
       "    .dataframe tbody tr th {\n",
       "        vertical-align: top;\n",
       "    }\n",
       "\n",
       "    .dataframe thead th {\n",
       "        text-align: right;\n",
       "    }\n",
       "</style>\n",
       "<table border=\"1\" class=\"dataframe\">\n",
       "  <thead>\n",
       "    <tr style=\"text-align: right;\">\n",
       "      <th></th>\n",
       "      <th>Produtos</th>\n",
       "      <th>Preço Original</th>\n",
       "      <th>Moeda</th>\n",
       "      <th>Cotação</th>\n",
       "      <th>Preço de Compra</th>\n",
       "      <th>Margem</th>\n",
       "      <th>Preço de Venda</th>\n",
       "    </tr>\n",
       "  </thead>\n",
       "  <tbody>\n",
       "    <tr>\n",
       "      <th>0</th>\n",
       "      <td>Câmera Canon</td>\n",
       "      <td>999.99</td>\n",
       "      <td>Dólar</td>\n",
       "      <td>5.18420</td>\n",
       "      <td>5184.148158</td>\n",
       "      <td>1.40</td>\n",
       "      <td>7257.807421</td>\n",
       "    </tr>\n",
       "    <tr>\n",
       "      <th>1</th>\n",
       "      <td>Carro Renault</td>\n",
       "      <td>4500.00</td>\n",
       "      <td>Euro</td>\n",
       "      <td>5.28581</td>\n",
       "      <td>23786.146440</td>\n",
       "      <td>2.00</td>\n",
       "      <td>47572.292880</td>\n",
       "    </tr>\n",
       "    <tr>\n",
       "      <th>2</th>\n",
       "      <td>Notebook Dell</td>\n",
       "      <td>899.99</td>\n",
       "      <td>Dólar</td>\n",
       "      <td>5.18420</td>\n",
       "      <td>4665.728158</td>\n",
       "      <td>1.70</td>\n",
       "      <td>7931.737869</td>\n",
       "    </tr>\n",
       "    <tr>\n",
       "      <th>3</th>\n",
       "      <td>IPhone</td>\n",
       "      <td>799.00</td>\n",
       "      <td>Dólar</td>\n",
       "      <td>5.18420</td>\n",
       "      <td>4142.175800</td>\n",
       "      <td>1.70</td>\n",
       "      <td>7041.698860</td>\n",
       "    </tr>\n",
       "    <tr>\n",
       "      <th>4</th>\n",
       "      <td>Carro Fiat</td>\n",
       "      <td>3000.00</td>\n",
       "      <td>Euro</td>\n",
       "      <td>5.28581</td>\n",
       "      <td>15857.430960</td>\n",
       "      <td>1.90</td>\n",
       "      <td>30129.118824</td>\n",
       "    </tr>\n",
       "    <tr>\n",
       "      <th>5</th>\n",
       "      <td>Celular Xiaomi</td>\n",
       "      <td>480.48</td>\n",
       "      <td>Dólar</td>\n",
       "      <td>5.18420</td>\n",
       "      <td>2490.904416</td>\n",
       "      <td>2.00</td>\n",
       "      <td>4981.808832</td>\n",
       "    </tr>\n",
       "    <tr>\n",
       "      <th>6</th>\n",
       "      <td>Joia 20g</td>\n",
       "      <td>20.00</td>\n",
       "      <td>Ouro</td>\n",
       "      <td>292.28000</td>\n",
       "      <td>5845.600000</td>\n",
       "      <td>1.15</td>\n",
       "      <td>6722.440000</td>\n",
       "    </tr>\n",
       "  </tbody>\n",
       "</table>\n",
       "</div>"
      ],
      "text/plain": [
       "         Produtos  Preço Original  Moeda    Cotação  Preço de Compra  Margem  \\\n",
       "0    Câmera Canon          999.99  Dólar    5.18420      5184.148158    1.40   \n",
       "1   Carro Renault         4500.00   Euro    5.28581     23786.146440    2.00   \n",
       "2   Notebook Dell          899.99  Dólar    5.18420      4665.728158    1.70   \n",
       "3          IPhone          799.00  Dólar    5.18420      4142.175800    1.70   \n",
       "4      Carro Fiat         3000.00   Euro    5.28581     15857.430960    1.90   \n",
       "5  Celular Xiaomi          480.48  Dólar    5.18420      2490.904416    2.00   \n",
       "6        Joia 20g           20.00   Ouro  292.28000      5845.600000    1.15   \n",
       "\n",
       "   Preço de Venda  \n",
       "0     7257.807421  \n",
       "1    47572.292880  \n",
       "2     7931.737869  \n",
       "3     7041.698860  \n",
       "4    30129.118824  \n",
       "5     4981.808832  \n",
       "6     6722.440000  "
      ]
     },
     "metadata": {},
     "output_type": "display_data"
    }
   ],
   "source": [
    "tabela_produtos['Preço de Compra'] = tabela_produtos['Preço Original'] * tabela_produtos['Cotação']\n",
    "tabela_produtos['Preço de Venda'] = tabela_produtos['Preço de Compra'] * tabela_produtos['Margem']\n",
    "display(tabela_produtos)"
   ]
  },
  {
   "cell_type": "markdown",
   "id": "0084adde-7686-4baf-a3a8-aea7605da8a4",
   "metadata": {},
   "source": [
    "## Exportação para novo Arquivo Atualizado"
   ]
  },
  {
   "cell_type": "code",
   "execution_count": 71,
   "id": "bed3e824-bea2-40cc-9805-33d4481fefcc",
   "metadata": {},
   "outputs": [],
   "source": [
    "tabela_produtos.to_excel('Produtos - Atualizado.xlsx', index=False)"
   ]
  }
 ],
 "metadata": {
  "kernelspec": {
   "display_name": "Python 3 (ipykernel)",
   "language": "python",
   "name": "python3"
  },
  "language_info": {
   "codemirror_mode": {
    "name": "ipython",
    "version": 3
   },
   "file_extension": ".py",
   "mimetype": "text/x-python",
   "name": "python",
   "nbconvert_exporter": "python",
   "pygments_lexer": "ipython3",
   "version": "3.9.7"
  }
 },
 "nbformat": 4,
 "nbformat_minor": 5
}
